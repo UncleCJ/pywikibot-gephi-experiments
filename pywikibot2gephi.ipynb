{
 "cells": [
  {
   "cell_type": "code",
   "execution_count": null,
   "metadata": {},
   "outputs": [],
   "source": [
    "import pywikibot\n",
    "import igraph as ig\n",
    "import igraph.remote.gephi as igg"
   ]
  },
  {
   "cell_type": "code",
   "execution_count": null,
   "metadata": {},
   "outputs": [],
   "source": [
    "# Instantiate pywikibot mediawiki as defined in user-config.py\n",
    "# (potentially leveraging PYWIKIBOT_ROOT/families [look this up])\n",
    "site = pywikibot.Site()"
   ]
  },
  {
   "cell_type": "code",
   "execution_count": null,
   "metadata": {},
   "outputs": [],
   "source": [
    "page1 = pywikibot.Page('Eps1.1 ones-and-zer0es.mpeg')\n",
    "page2 = pywikibot.Page('Elliot Alderson')"
   ]
  },
  {
   "cell_type": "code",
   "execution_count": null,
   "metadata": {},
   "outputs": [],
   "source": [
    "page1_attributes = {\n",
    "    'name': page1.title(), \n",
    "    # Note how several attributes/properties are methods, while this is an int\n",
    "    #  - you can specify to pywikibot.Page whether you want to fetch the content\n",
    "    'pageid': page1.pageid,\n",
    "    'revision_count': page1.revision_count(),\n",
    "    # pywikibot frequently returns objects which may not be serializable\n",
    "    'namespace': str(page1.namespace()),\n",
    "    # again, here we convert Category objects into a string\n",
    "    'categories': ';'.join([category.title() for category in page1.categories()]),\n",
    "    # Contributors are a dict of usernames and number of revisions\n",
    "    'contributors': ';'.join(page1.contributors().keys()),\n",
    "    }\n",
    "\n",
    "# We will have a function to perform this shortly\n",
    "page2_attributes = {\n",
    "    'name': page2.title(), \n",
    "    'pageid': page2.pageid,\n",
    "    'revision_count': page2.revision_count(),\n",
    "    'namespace': str(page2.namespace()),\n",
    "    'categories': ';'.join([category.title() for category in page2.categories()]),\n",
    "    'contributors': ';'.join(page2.contributors().keys()),\n",
    "    }"
   ]
  },
  {
   "cell_type": "code",
   "execution_count": null,
   "metadata": {},
   "outputs": [],
   "source": [
    "g = ig.Graph()\n",
    "\n",
    "# Seems igraph doesn't provide much convenience,\n",
    "# better keep track of vertex IDs (edges will be fine)\n",
    "vertex_ids = ig.UniqueIdGenerator()"
   ]
  },
  {
   "cell_type": "code",
   "execution_count": null,
   "metadata": {},
   "outputs": [],
   "source": [
    "for attributes in page1_attributes, page2_attributes:\n",
    "    # Gephi expect vertex/node names in the `Label` field\n",
    "    attributes['Label'] = attributes['name']\n",
    "    # igraph.UniqueIdGenerator will retrieve an ID if key exists, or register the next one\n",
    "    attributes['id'] = vertex_ids[attributes['name']]\n",
    "    # ... so make sure to add the vertice/vertex if you generate IDs:\n",
    "    g.add_vertice(1, attributes)"
   ]
  },
  {
   "cell_type": "code",
   "execution_count": null,
   "metadata": {},
   "outputs": [],
   "source": [
    "gephi = igg.GephiConnection()\n",
    "streamer = igg.GephiGraphStreamer()\n",
    "streamer.post(g, gephi)"
   ]
  },
  {
   "cell_type": "code",
   "execution_count": null,
   "metadata": {},
   "outputs": [],
   "source": [
    "# import pickle\n",
    "\n",
    "# with open('mrrobotgraph.pickle', 'wb') as handle:\n",
    "#     pickle.dump(g, handle, protocol=pickle.HIGHEST_PROTOCOL)\n",
    "\n",
    "# with open('mrrobot_idgen.pickle', 'wb') as handle:\n",
    "#     pickle.dump(id_gen, handle, protocol=pickle.HIGHEST_PROTOCOL)"
   ]
  },
  {
   "cell_type": "code",
   "execution_count": null,
   "metadata": {},
   "outputs": [],
   "source": [
    "# with open('mrrobotgraph.pickle', 'rb') as handle:\n",
    "#     g = pickle.load(handle)\n",
    "\n",
    "# with open('mrrobot_idgen.pickle', 'rb') as handle:\n",
    "#     id_gen = pickle.load(handle)"
   ]
  },
  {
   "cell_type": "code",
   "execution_count": null,
   "metadata": {},
   "outputs": [],
   "source": [
    "print(f'vertices: {len(g.vs)}, edges: {len(g.es)}')\n",
    "\n",
    "print(g.vs[0])\n",
    "print(g.vs[1])\n",
    "\n",
    "# print(g)"
   ]
  }
 ],
 "metadata": {
  "interpreter": {
   "hash": "ca918ad339edcacb48889f88a3559b6f8079d9b3c89334dc39fffcc952cb73bf"
  },
  "kernelspec": {
   "display_name": "Python 3.8.10 64-bit ('venv': venv)",
   "name": "python3"
  },
  "language_info": {
   "codemirror_mode": {
    "name": "ipython",
    "version": 3
   },
   "file_extension": ".py",
   "mimetype": "text/x-python",
   "name": "python",
   "nbconvert_exporter": "python",
   "pygments_lexer": "ipython3",
   "version": "3.8.10"
  },
  "orig_nbformat": 4
 },
 "nbformat": 4,
 "nbformat_minor": 2
}