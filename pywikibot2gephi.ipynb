{
 "cells": [
  {
   "cell_type": "markdown",
   "metadata": {},
   "source": [
    "## Overview (from README.md)"
   ]
  },
  {
   "cell_type": "code",
   "execution_count": 1,
   "metadata": {},
   "outputs": [
    {
     "data": {
      "text/markdown": [
       "# Experimenting with Mediawiki API and network graphs\n",
       "\n",
       "[![nbviewer](https://raw.githubusercontent.com/jupyter/design/master/logos/Badges/nbviewer_badge.svg)](https://nbviewer.jupyter.org/github/UncleCJ/pywikibot-gephi-experiments/blob/dev3/pywikibot2gephi.ipynb) [![Binder](https://mybinder.org/badge_logo.svg)](https://mybinder.org/v2/gh/UncleCJ/pywikibot-gephi-experiments/dev3?filepath=pywikibot2gephi.ipynb)\n",
       "\n",
       "This README is included in the [pywikibot2gephi.ipynb Jupyter notebook](pywikibot2gephi.ipynb), you might as well head right over there.\n",
       "\n",
       "## TL;DR;\n",
       "\n",
       "> These are my experiments in learning how to use any Mediawiki API through Pywikibot to collect any data I am interested in processing as a network graph (originally in convenient tool Gephi). Besides pretty pictures, network graphs offer powerful methods to visualize and elucidate data in ways which would be difficult otherwise. Two applications I have in mind are are [story narrative charts](https://xkcd.com/657) and as aid in corporate wiki management.\n",
       "\n",
       "\n",
       "## Overview\n",
       "\n",
       "For [the longest time](http://unclecj.blogspot.com/search/label/gephi), I've enjoyed playing with various types of network graphs, mainly using the revered open source tool [Gephi](https://github.com/gephi/gephi). However, data acquisition and preparation is usually the challenge, so I've been wanting to get into programmatic ways of working with the data. I haven't so far explored... lower-level tools like [neo4j](https://neo4j.com) or [Wikibase](https://wikiba.se) (together with [Mediawiki](https://www.mediawiki.org/wiki/MediaWiki) the software powering [Wikidata](https://www.wikidata.org/wiki/Wikidata:Main_Page), itself the structured data storage behind [Wikipedia](https://www.wikipedia.org/)).\n",
       "\n",
       "From the beginning, I've usually fed Gephi by creating some type of CSV/spreadsheet [node-, edge lists or adjacency matrix](https://gephi.org/users/supported-graph-formats/csv-format/). With some learning effort and assuming your data is in for instance Wikidata, you can feed it from the [SemanticWebImport Gephi plugin](https://github.com/gephi/gephi/wiki/SemanticWebImport) and SPARQL queries (see my [previous tutorial on that](https://gist.github.com/UncleCJ/2408aef8eab09cc1da3404c5af43537b)). There is also the option to simply [scrape the web](https://medium.com/@dakarabas/how-to-easily-visualize-your-internal-links-with-python-4467ef1e8c4d) (that example using [Beautiful Soup](https://www.crummy.com/software/BeautifulSoup/), [Selenium](https://www.selenium.dev), [Pandas](https://github.com/pandas-dev/pandas), [NetworkX](https://github.com/networkx/networkx) and [Matplotlib](https://github.com/matplotlib/matplotlib)), but that can easily get messy.\n",
       "\n",
       "Thus follows my current toolchain - there are lots of exciting data accessible through the [Mediawiki APIs](https://www.mediawiki.org/wiki/API:Main_page) (not only Wikipedia but also sites in the [Fandom/Wikia family](https://en.wikipedia.org/wiki/Fandom_(website)) or perhaps your corporate wiki?). [Pywikibot](https://github.com/wikimedia/pywikibot) offers a convenient and well-used (though not as well documented?) Python wrapping for Mediawiki API, such as authentication, parsing, caching and configurable throttling. [igraph](https://github.com/igraph/python-igraph) (n.b. `python-igraph`) seems sensible and provides an interface to the [Gephi GraphStreaming plugin](https://github.com/gephi/gephi/wiki/GraphStreaming). Jupyter notebooks are practically a given (see also my [advent-of-code solutions](https://github.com/UncleCJ/advent-of-code), also in Jupyter notebooks)\n",
       "\n",
       "As for potential paths of development, for when you don't have Gephi running along the notebook, [one could opt for NetworkX](https://www.reddit.com/r/Python/comments/4g9lp0/comment/d2i0r45/?utm_source=share&utm_medium=web2x&context=3) as well as further usage of [IPython.display](https://ipython.readthedocs.io/en/stable/api/generated/IPython.display.html), or even trying out something like [pyvis](https://github.com/WestHealth/pyvis) (article [here](https://towardsdatascience.com/pyvis-visualize-interactive-network-graphs-in-python-77e059791f01), see also their [two](https://towardsdatascience.com/visualising-graph-data-with-python-igraph-b3cc81a495cf) previous [articles](https://towardsdatascience.com/newbies-guide-to-python-igraph-4e51689c35b4)).\n",
       "\n",
       "Wikimedians may expect [more Wikidata](https://www.wikidata.org/wiki/Wikidata:Pywikibot_-_Python_3_Tutorial) or even [PAWS](https://wikitech.wikimedia.org/wiki/PAWS), but that's not where I'm going currently.\n",
       "\n",
       "For inspiration, I draw mainly on [Aidan Hogan](https://github.com/aidhog) et al. article \"[Knowledge Graphs (extended version)](https://aidanhogan.com)\" and [Alberto Cottica](https://github.com/albertocottica) et al. presentation \"[People, words, data: Harvesting collective intelligence](https://edgeryders.eu/t/internet-of-humans-matchmaking-event-in-stockholm/9705/81?u=unclecj)\" and article \"[Semantic Social Networks: A Mixed Methods Approach to Digital Ethnography](https://journals.sagepub.com/doi/10.1177/1525822X20908236)\"\n",
       "\n",
       "## Usage\n",
       "\n",
       "\n",
       "* Have [Python 3.x](https://www.python.org/downloads) with [Jupyter](https://pypi.org/project/jupyter) and preferably something like [virtualenv](https://pypi.org/project/virtualenv) installed\n",
       "* Define a virtualenv or similar to keep dependencies managable for this project: `virtualenv ./venv` . Activate it like `source venv/bin/activate`. In it, `pip install -r requirements.txt`\n",
       "* IDEs like [VS Code](https://code.visualstudio.com/docs/python/environments) may pick up on your virtualenv, or you may have to [register it with IPython](https://www.janmeppe.com/blog/how-to-add-new-kernel-in-jupyter-notebook)\n",
       "* Open the notebook in your IDE, or through Jupyter: `jupyter pywikibot2gephi.ipynb`\n",
       "* _Optionally, install [Gephi (0.9.2)](https://gephi.org/users/download), start it and activate the [Graph Streaming](https://gephi.org/plugins/#/plugin/graphstreaming) \"master server\"_\n",
       "* Run, explore and modify the examples!\n",
       "\n",
       "Alternatively, just click the [\"launch binder\" button](https://mybinder.org/v2/gh/UncleCJ/pywikibot-gephi-experiments/dev2?filepath=pywikibot2gephi.ipynb) and [mybinder.org](https://mybinder.org/) together with [repo2docker GitHub Actions](https://discourse.jupyter.org/t/how-to-reduce-mybinder-org-repository-startup-time/4956/2) should have all the requirements sorted for you in a jiffy (obviously a binder won't be able to connect to a local Gephi). Another option is to install the notebook in [PAWS: A Web Shell (PAWS)](https://wikitech.wikimedia.org/wiki/PAWS), but I haven't tried that.\n",
       "\n",
       "\n",
       "## Changelog\n",
       "\n",
       "### 2021-10-16\n",
       "\n",
       "Cleaned up the project, wrote down (and reconstructed) this README. Currently working in the `dev3` branch, because of how I want things tidy before I set them in stone (a.k.a. `main`)\n",
       "### 2021-10-10\n",
       "\n",
       "Created this repository and started my experiments. Yesterday I confirmed that by hard-coding our corporate SSO session cookie (figure out a way to pull it from the browser?) in [`pywikibot.lwp`](https://github.com/wikimedia/pywikibot/blob/master/pywikibot/comms/http.py) (\"[Set-Cookie3 format](https://docs.python.org/2/library/cookielib.html#filecookiejar-subclasses-and-co-operation-with-web-browsers)\"), the regular MediaWiki API of the corporate wiki is usable. So while this is playing around for personal education, my hope is it could be quite useful also for various methods of corporate information- and community management\n",
       "\n",
       "\n",
       "## See also\n",
       "\n",
       "* https://public.paws.wmcloud.org/309423/ds4ux/jupyter-intro.ipynb\n",
       "* https://public.paws.wmcloud.org/19781798/WikidataMapMakingWorkshop/WikidataMapMakingWorkshop.ipynb\n",
       "* https://pythonrepo.com/repo/markusschanta-awesome-jupyter-python-repl\n",
       "* https://heardlibrary.github.io/digital-scholarship/host/wikidata/bot/\n",
       "* https://heardlibrary.github.io/digital-scholarship/host/wikidata/pywikibot/\n",
       "* https://cambridge-intelligence.com/python-graph-visualization-using-jupyter-regraph/\n",
       "* http://compbio.ucsd.edu/bringing-interactivity-network-visualization-jupyter-notebooks-visjs2jupyter/\n",
       "* https://ipython-books.github.io/64-visualizing-a-networkx-graph-in-the-notebook-with-d3js/\n",
       "* https://melaniewalsh.github.io/Intro-Cultural-Analytics/06-Network-Analysis/02-Making-Network-Viz-with-Bokeh.html\n",
       "* https://github.com/adamhajari/nbgitconvert\n",
       "* https://medium.com/@mjspeck/presenting-code-using-jupyter-notebook-slides-a8a3c3b59d67\n",
       "* https://www.blog.pythonlibrary.org/2018/09/25/creating-presentations-with-jupyter-notebook/\n"
      ],
      "text/plain": [
       "<IPython.core.display.Markdown object>"
      ]
     },
     "execution_count": 1,
     "metadata": {},
     "output_type": "execute_result"
    }
   ],
   "source": [
    "from IPython import display\n",
    "\n",
    "display.Markdown('README.md')"
   ]
  },
  {
   "cell_type": "markdown",
   "metadata": {},
   "source": [
    "## Introduction - Parse mediawiki pages into igraph"
   ]
  },
  {
   "cell_type": "markdown",
   "metadata": {},
   "source": [
    "Imports are as expected. Note that the pip package for igraph (for now) is `python-igraph`. See the **Usage** section regarding general information on how you should and can run this code (as soon as it is described)."
   ]
  },
  {
   "cell_type": "code",
   "execution_count": 2,
   "metadata": {},
   "outputs": [],
   "source": [
    "import pywikibot\n",
    "import igraph as ig\n",
    "import igraph.remote.gephi as igg"
   ]
  },
  {
   "cell_type": "markdown",
   "metadata": {},
   "source": [
    "Pywikibot encodes its configuration of each mediawiki it may operate on (wikipedias in different languages, wikidata, other mediawikis etc.) in \"families\". Thus in `user-config.py` we have as an example encoded the basic configuration to work on the [Mr Robot Fandom wiki](https://mrrobot.fandom.com):"
   ]
  },
  {
   "cell_type": "code",
   "execution_count": 3,
   "metadata": {},
   "outputs": [
    {
     "data": {
      "text/html": [
       "<style>pre { line-height: 125%; }\n",
       "td.linenos .normal { color: inherit; background-color: transparent; padding-left: 5px; padding-right: 5px; }\n",
       "span.linenos { color: inherit; background-color: transparent; padding-left: 5px; padding-right: 5px; }\n",
       "td.linenos .special { color: #000000; background-color: #ffffc0; padding-left: 5px; padding-right: 5px; }\n",
       "span.linenos.special { color: #000000; background-color: #ffffc0; padding-left: 5px; padding-right: 5px; }\n",
       ".output_html .hll { background-color: #ffffcc }\n",
       ".output_html { background: #f8f8f8; }\n",
       ".output_html .c { color: #408080; font-style: italic } /* Comment */\n",
       ".output_html .err { border: 1px solid #FF0000 } /* Error */\n",
       ".output_html .k { color: #008000; font-weight: bold } /* Keyword */\n",
       ".output_html .o { color: #666666 } /* Operator */\n",
       ".output_html .ch { color: #408080; font-style: italic } /* Comment.Hashbang */\n",
       ".output_html .cm { color: #408080; font-style: italic } /* Comment.Multiline */\n",
       ".output_html .cp { color: #BC7A00 } /* Comment.Preproc */\n",
       ".output_html .cpf { color: #408080; font-style: italic } /* Comment.PreprocFile */\n",
       ".output_html .c1 { color: #408080; font-style: italic } /* Comment.Single */\n",
       ".output_html .cs { color: #408080; font-style: italic } /* Comment.Special */\n",
       ".output_html .gd { color: #A00000 } /* Generic.Deleted */\n",
       ".output_html .ge { font-style: italic } /* Generic.Emph */\n",
       ".output_html .gr { color: #FF0000 } /* Generic.Error */\n",
       ".output_html .gh { color: #000080; font-weight: bold } /* Generic.Heading */\n",
       ".output_html .gi { color: #00A000 } /* Generic.Inserted */\n",
       ".output_html .go { color: #888888 } /* Generic.Output */\n",
       ".output_html .gp { color: #000080; font-weight: bold } /* Generic.Prompt */\n",
       ".output_html .gs { font-weight: bold } /* Generic.Strong */\n",
       ".output_html .gu { color: #800080; font-weight: bold } /* Generic.Subheading */\n",
       ".output_html .gt { color: #0044DD } /* Generic.Traceback */\n",
       ".output_html .kc { color: #008000; font-weight: bold } /* Keyword.Constant */\n",
       ".output_html .kd { color: #008000; font-weight: bold } /* Keyword.Declaration */\n",
       ".output_html .kn { color: #008000; font-weight: bold } /* Keyword.Namespace */\n",
       ".output_html .kp { color: #008000 } /* Keyword.Pseudo */\n",
       ".output_html .kr { color: #008000; font-weight: bold } /* Keyword.Reserved */\n",
       ".output_html .kt { color: #B00040 } /* Keyword.Type */\n",
       ".output_html .m { color: #666666 } /* Literal.Number */\n",
       ".output_html .s { color: #BA2121 } /* Literal.String */\n",
       ".output_html .na { color: #7D9029 } /* Name.Attribute */\n",
       ".output_html .nb { color: #008000 } /* Name.Builtin */\n",
       ".output_html .nc { color: #0000FF; font-weight: bold } /* Name.Class */\n",
       ".output_html .no { color: #880000 } /* Name.Constant */\n",
       ".output_html .nd { color: #AA22FF } /* Name.Decorator */\n",
       ".output_html .ni { color: #999999; font-weight: bold } /* Name.Entity */\n",
       ".output_html .ne { color: #D2413A; font-weight: bold } /* Name.Exception */\n",
       ".output_html .nf { color: #0000FF } /* Name.Function */\n",
       ".output_html .nl { color: #A0A000 } /* Name.Label */\n",
       ".output_html .nn { color: #0000FF; font-weight: bold } /* Name.Namespace */\n",
       ".output_html .nt { color: #008000; font-weight: bold } /* Name.Tag */\n",
       ".output_html .nv { color: #19177C } /* Name.Variable */\n",
       ".output_html .ow { color: #AA22FF; font-weight: bold } /* Operator.Word */\n",
       ".output_html .w { color: #bbbbbb } /* Text.Whitespace */\n",
       ".output_html .mb { color: #666666 } /* Literal.Number.Bin */\n",
       ".output_html .mf { color: #666666 } /* Literal.Number.Float */\n",
       ".output_html .mh { color: #666666 } /* Literal.Number.Hex */\n",
       ".output_html .mi { color: #666666 } /* Literal.Number.Integer */\n",
       ".output_html .mo { color: #666666 } /* Literal.Number.Oct */\n",
       ".output_html .sa { color: #BA2121 } /* Literal.String.Affix */\n",
       ".output_html .sb { color: #BA2121 } /* Literal.String.Backtick */\n",
       ".output_html .sc { color: #BA2121 } /* Literal.String.Char */\n",
       ".output_html .dl { color: #BA2121 } /* Literal.String.Delimiter */\n",
       ".output_html .sd { color: #BA2121; font-style: italic } /* Literal.String.Doc */\n",
       ".output_html .s2 { color: #BA2121 } /* Literal.String.Double */\n",
       ".output_html .se { color: #BB6622; font-weight: bold } /* Literal.String.Escape */\n",
       ".output_html .sh { color: #BA2121 } /* Literal.String.Heredoc */\n",
       ".output_html .si { color: #BB6688; font-weight: bold } /* Literal.String.Interpol */\n",
       ".output_html .sx { color: #008000 } /* Literal.String.Other */\n",
       ".output_html .sr { color: #BB6688 } /* Literal.String.Regex */\n",
       ".output_html .s1 { color: #BA2121 } /* Literal.String.Single */\n",
       ".output_html .ss { color: #19177C } /* Literal.String.Symbol */\n",
       ".output_html .bp { color: #008000 } /* Name.Builtin.Pseudo */\n",
       ".output_html .fm { color: #0000FF } /* Name.Function.Magic */\n",
       ".output_html .vc { color: #19177C } /* Name.Variable.Class */\n",
       ".output_html .vg { color: #19177C } /* Name.Variable.Global */\n",
       ".output_html .vi { color: #19177C } /* Name.Variable.Instance */\n",
       ".output_html .vm { color: #19177C } /* Name.Variable.Magic */\n",
       ".output_html .il { color: #666666 } /* Literal.Number.Integer.Long */</style><div class=\"highlight\"><pre><span></span><span class=\"n\">mylang</span> <span class=\"o\">=</span> <span class=\"s1\">&#39;mrrobot&#39;</span>\n",
       "<span class=\"n\">family</span> <span class=\"o\">=</span> <span class=\"s1\">&#39;mrrobot&#39;</span>\n",
       "<span class=\"n\">usernames</span><span class=\"p\">[</span><span class=\"s1\">&#39;mrrobot&#39;</span><span class=\"p\">][</span><span class=\"s1\">&#39;en&#39;</span><span class=\"p\">]</span> <span class=\"o\">=</span> <span class=\"s1\">&#39;ExampleBot&#39;</span>\n",
       "<span class=\"n\">family_files</span><span class=\"p\">[</span><span class=\"s1\">&#39;mrrobot&#39;</span><span class=\"p\">]</span> <span class=\"o\">=</span> <span class=\"s1\">&#39;https://mrrobot.fandom.com/api.php&#39;</span>\n",
       "</pre></div>\n"
      ],
      "text/latex": [
       "\\begin{Verbatim}[commandchars=\\\\\\{\\}]\n",
       "\\PY{n}{mylang} \\PY{o}{=} \\PY{l+s+s1}{\\PYZsq{}}\\PY{l+s+s1}{mrrobot}\\PY{l+s+s1}{\\PYZsq{}}\n",
       "\\PY{n}{family} \\PY{o}{=} \\PY{l+s+s1}{\\PYZsq{}}\\PY{l+s+s1}{mrrobot}\\PY{l+s+s1}{\\PYZsq{}}\n",
       "\\PY{n}{usernames}\\PY{p}{[}\\PY{l+s+s1}{\\PYZsq{}}\\PY{l+s+s1}{mrrobot}\\PY{l+s+s1}{\\PYZsq{}}\\PY{p}{]}\\PY{p}{[}\\PY{l+s+s1}{\\PYZsq{}}\\PY{l+s+s1}{en}\\PY{l+s+s1}{\\PYZsq{}}\\PY{p}{]} \\PY{o}{=} \\PY{l+s+s1}{\\PYZsq{}}\\PY{l+s+s1}{ExampleBot}\\PY{l+s+s1}{\\PYZsq{}}\n",
       "\\PY{n}{family\\PYZus{}files}\\PY{p}{[}\\PY{l+s+s1}{\\PYZsq{}}\\PY{l+s+s1}{mrrobot}\\PY{l+s+s1}{\\PYZsq{}}\\PY{p}{]} \\PY{o}{=} \\PY{l+s+s1}{\\PYZsq{}}\\PY{l+s+s1}{https://mrrobot.fandom.com/api.php}\\PY{l+s+s1}{\\PYZsq{}}\n",
       "\\end{Verbatim}\n"
      ],
      "text/plain": [
       "mylang = 'mrrobot'\n",
       "family = 'mrrobot'\n",
       "usernames['mrrobot']['en'] = 'ExampleBot'\n",
       "family_files['mrrobot'] = 'https://mrrobot.fandom.com/api.php'"
      ]
     },
     "execution_count": 3,
     "metadata": {},
     "output_type": "execute_result"
    }
   ],
   "source": [
    "display.Code('user-config.py')"
   ]
  },
  {
   "cell_type": "markdown",
   "metadata": {},
   "source": [
    "Instantiate pywikibot mediawiki as defined in `user-config.py`. In this case an `AutoFamily` is sufficient, otherwise consider the [`families/` folder beneath where pywikibot is located](https://www.mediawiki.org/wiki/Manual:Pywikibot/Use_on_third-party_wikis)."
   ]
  },
  {
   "cell_type": "code",
   "execution_count": 4,
   "metadata": {},
   "outputs": [],
   "source": [
    "site = pywikibot.Site()"
   ]
  },
  {
   "cell_type": "markdown",
   "metadata": {},
   "source": [
    "Instantiate two [`pywikibot.Page`s](https://doc.wikimedia.org/pywikibot/master/api_ref/pywikibot.page.html), corresponding to two we know exist in our example wiki. Note that I don't think any API calls are made yet, but only as you access any attributes, and then they seem [cached](https://github.com/wikimedia/pywikibot/blob/master/scripts/maintenance/cache.py) and [throttled](https://doc.wikimedia.org/pywikibot/stable/api_ref/pywikibot.site.html#pywikibot.site.BaseSite.throttle) for sanity, as well as [controllable content fetching](https://doc.wikimedia.org/pywikibot/master/api_ref/pywikibot.page.html#pywikibot.page.BasePage) or [prefetched in page generators](https://doc.wikimedia.org/pywikibot/master/api_ref/pywikibot.html#module-pywikibot.pagegenerators)."
   ]
  },
  {
   "cell_type": "code",
   "execution_count": 5,
   "metadata": {},
   "outputs": [],
   "source": [
    "page1 = pywikibot.Page(site, 'Eps1.1 ones-and-zer0es.mpeg')\n",
    "page2 = pywikibot.Page(site, 'Elliot Alderson')"
   ]
  },
  {
   "cell_type": "markdown",
   "metadata": {},
   "source": [
    "Manually, for now, prepare two attribute dictionaries from each `Page`, to be added as nodes in our graph. Note that at least igraph will not take care of all compatibility issues with `GephiGraphStreamer`. Some I have come across are:\n",
    "\n",
    "* Node/edge IDs and duplicates - recent documentation suggests igraph will efficiently cope with looking nodes up by name, but as you may add many duplicates if you are careless, Gephi will object to receiving them (or for instance subsequent edges referring to them). Similarly I am considering a utility method to increment edge weight rather than adding a duplicate\n",
    "* Attributes may be `None` in igraph, but will be rejected by Gephi - this is particularly inconvenient if you increase the number of attributes at runtime\n",
    "* igraph may accept for instance method objects, but Gephi require them to be serializable (or even simple types according to each attribute?)"
   ]
  },
  {
   "cell_type": "code",
   "execution_count": 6,
   "metadata": {},
   "outputs": [],
   "source": [
    "page1_attributes = {\n",
    "    'name': page1.title(), \n",
    "    # Note how several attributes/properties are methods, while this is an int\n",
    "    'pageid': page1.pageid,\n",
    "    'revision_count': page1.revision_count(),\n",
    "    # pywikibot frequently returns objects which may not be serializable\n",
    "    'namespace': str(page1.namespace()),\n",
    "    # again, here we convert Category objects into a string\n",
    "    'categories': ';'.join([category.title() for category in page1.categories()]),\n",
    "    # Contributors are a dict of usernames and number of revisions\n",
    "    'contributors': ';'.join(page1.contributors().keys()),\n",
    "    }\n",
    "\n",
    "# We will have a function to perform this shortly\n",
    "page2_attributes = {\n",
    "    'name': page2.title(), \n",
    "    'pageid': page2.pageid,\n",
    "    'revision_count': page2.revision_count(),\n",
    "    'namespace': str(page2.namespace()),\n",
    "    'categories': ';'.join([category.title() for category in page2.categories()]),\n",
    "    'contributors': ';'.join(page2.contributors().keys()),\n",
    "    }"
   ]
  },
  {
   "cell_type": "markdown",
   "metadata": {},
   "source": [
    "Instantiate our [`igraph.Graph` object](https://igraph.org/python/doc/api/igraph.Graph.html) (again, I seem able to remove this ID generator and leave it to igraph). I'm curious whether this and [`pywikibot.Site`](https://doc.wikimedia.org/pywikibot/stable/api_ref/pywikibot.site.html) are possible and useful to [pickle](https://docs.python.org/3/library/pickle.html) to resume a previous session. Regardless I am likely to write some experiment class to keep these for me."
   ]
  },
  {
   "cell_type": "code",
   "execution_count": 7,
   "metadata": {},
   "outputs": [],
   "source": [
    "g = ig.Graph()\n",
    "\n",
    "# Seems igraph doesn't provide much convenience,\n",
    "# better keep track of vertex IDs (edges will be fine)\n",
    "vertex_ids = ig.UniqueIdGenerator()"
   ]
  },
  {
   "cell_type": "markdown",
   "metadata": {},
   "source": [
    "Perform some automated housekeeping on the page attribute dictionaries (and again, this is subject to change):"
   ]
  },
  {
   "cell_type": "code",
   "execution_count": 8,
   "metadata": {},
   "outputs": [],
   "source": [
    "for attributes in page1_attributes, page2_attributes:\n",
    "    # Gephi expect vertex/node names in the `Label` field\n",
    "    attributes['Label'] = attributes['name']\n",
    "    # igraph.UniqueIdGenerator will retrieve an ID if key exists, or register the next one\n",
    "    attributes['id'] = vertex_ids[attributes['name']]\n",
    "    # ... so make sure to add the vertice/vertex if you generate IDs:\n",
    "    g.add_vertices(1, attributes)"
   ]
  },
  {
   "cell_type": "markdown",
   "metadata": {},
   "source": [
    "Once added, page attributes are now [igraph vertices](https://igraph.org/python/api/latest/igraph._igraph.Vertex.html) in the [`igraph.Graph.vs` array property](https://igraph.org/python/doc/api/igraph.Graph.html#vs):"
   ]
  },
  {
   "cell_type": "code",
   "execution_count": 9,
   "metadata": {},
   "outputs": [
    {
     "name": "stdout",
     "output_type": "stream",
     "text": [
      "igraph.Vertex(<igraph.Graph object at 0x110c7b8b0>, 0, {'name': 'Eps1.1 ones-and-zer0es.mpeg', 'pageid': 2338, 'revision_count': 98, 'namespace': ':', 'categories': 'Category:Broadcast episodes;Category:Season 1;Category:Season 1 episodes;Category:Episodes', 'contributors': 'Devinthe66;Theropod from the North;LeverageGuru;Lilgroot;Muhdika;Homersprairies;Azerty8;Tsimaile;BerzekerLT;ToxicNutellaStudios;Sharkdavid77;Aaron Warner-Perfection;92.24.143.225;2.101.0.99;105.225.82.18;PLLLOVER1234;X-IT', 'Label': 'Eps1.1 ones-and-zer0es.mpeg', 'id': 0})\n",
      "igraph.Vertex(<igraph.Graph object at 0x110c7b8b0>, 1, {'name': 'Elliot Alderson', 'pageid': 2167, 'revision_count': 212, 'namespace': ':', 'categories': 'Category:Allsafe Cybersecurity;Category:Hackers;Category:Season 1 characters;Category:Season 2 characters;Category:Season 3 characters;Category:Season 4 characters;Category:Characters;Category:Fsociety;Category:Major characters', 'contributors': 'Lilgroot;Lacunite;Scoothare;AnEvildoer;Skybluehaneul;Tanya AZian;LeverageGuru;Heliocopters;TheOriginalRiza32;Hecknawboi;Nad Sterk;Ithnam;Femtocell;Jakubgawka;Mayhem12367;Saturnkind;Protranslator;Empulsgfx;MonsterousMan;PhanAwesomeness;Original Authority;PhonixUK;Minirugman;Jon Ambrose 81;Monochromatic Bunny;GodVicious;HotheadedBirdy;F7 ACiD;Thootly;SomeCrazyObsessedFan;Tracadilla;HardLogic;ToxicSleeper;EmilyReedus-Dixon;Drvroom;Mrsrobot24;ToxicNutellaStudios;Shan282;Thegamingweirdo;199.119.233.205;72.191.69.125;99.248.157.182;199.7.157.101;Miokeyll;209.221.90.250;199.7.157.94;99.248.38.61;67.187.178.154;172.88.44.40;216.126.81.155;121.97.32.218;Pcnoic;104.177.94.189;66.85.139.244;197.35.7.173;Elliot Alderson;174.113.80.211;105.228.127.119;P-t-x;37.203.122.219;198.23.143.218;Mda228;217.208.115.32;73.132.17.165;108.9.159.237;JRob528;166.137.244.18;100.38.199.197;41.254.6.41;PLLLOVER1234;Zoeyadams;Spirit freak;146.115.155.4;Effectofthemassvariety;Vlop12;Sovq;X-IT;67.42.52.214', 'Label': 'Elliot Alderson', 'id': 1})\n"
     ]
    }
   ],
   "source": [
    "for v in g.vs:\n",
    "    print(v)"
   ]
  },
  {
   "cell_type": "markdown",
   "metadata": {},
   "source": [
    "And once again, keeping track of node IDs in an external generator and noting them in the `id` attribute, I check they are as expected in the graph, upon which we can add our first edge! [`igraph.Graph.add_vertices`](https://igraph.org/python/api/latest/igraph.Graph.html#add_vertices) and [`add_edges`](https://igraph.org/python/api/latest/igraph.Graph.html#add_edges) are slightly curious about how you can add whole sequences or a single object to the graph, just note how they function. "
   ]
  },
  {
   "cell_type": "code",
   "execution_count": 10,
   "metadata": {},
   "outputs": [
    {
     "name": "stdout",
     "output_type": "stream",
     "text": [
      "Page \"Eps1.1 ones-and-zer0es.mpeg\" got the vertex ID we expected\n",
      "Page \"Elliot Alderson\" got the vertex ID we expected\n"
     ]
    },
    {
     "data": {
      "text/plain": [
       "igraph.Edge(<igraph.Graph object at 0x110c7b8b0>, 0, {})"
      ]
     },
     "execution_count": 10,
     "metadata": {},
     "output_type": "execute_result"
    }
   ],
   "source": [
    "for attributes in [page1_attributes, page2_attributes]:\n",
    "    assert attributes['name'] == g.vs[attributes['id']]['name']\n",
    "    print(f'Page \"{attributes[\"name\"]}\" got the vertex ID we expected')\n",
    "\n",
    "g.add_edge(page1_attributes['id'], page2_attributes['id'])"
   ]
  },
  {
   "cell_type": "markdown",
   "metadata": {},
   "source": [
    "Pausing here for now - I would like to make the option to [display the graph in the notebook](https://igraph.org/python/doc/tutorial/visualisation.html) if Gephi isn't available, as well as render to image or graphml, but that's for later."
   ]
  },
  {
   "cell_type": "code",
   "execution_count": 11,
   "metadata": {},
   "outputs": [
    {
     "data": {
      "image/png": "[encoded data removed]",
      "text/plain": [
       "<Figure size 432x288 with 1 Axes>"
      ]
     },
     "metadata": {
      "needs_background": "light"
     },
     "output_type": "display_data"
    }
   ],
   "source": [
    "import matplotlib.pyplot as plt\n",
    "\n",
    "layout = g.layout(layout='circle')\n",
    "fig, ax = plt.subplots()\n",
    "ig.plot(g, layout=layout, target=ax, vertex_label=[v['name'] for v in g.vs])"
   ]
  },
  {
   "cell_type": "code",
   "execution_count": 12,
   "metadata": {},
   "outputs": [],
   "source": [
    "# gephi = igg.GephiConnection()\n",
    "# streamer = igg.GephiGraphStreamer()\n",
    "# streamer.post(g, gephi)"
   ]
  },
  {
   "cell_type": "markdown",
   "metadata": {},
   "source": [
    "Similarly I should get acquainted with how i can pickle/cache `Site`s and `Graph`s:"
   ]
  },
  {
   "cell_type": "code",
   "execution_count": 13,
   "metadata": {},
   "outputs": [],
   "source": [
    "# import pickle\n",
    "\n",
    "# with open('mrrobotgraph.pickle', 'wb') as handle:\n",
    "#     pickle.dump(g, handle, protocol=pickle.HIGHEST_PROTOCOL)"
   ]
  },
  {
   "cell_type": "code",
   "execution_count": 14,
   "metadata": {},
   "outputs": [],
   "source": [
    "# with open('mrrobotgraph.pickle', 'rb') as handle:\n",
    "#     g = pickle.load(handle)"
   ]
  },
  {
   "cell_type": "markdown",
   "metadata": {},
   "source": [
    "A generic status printout to keep at the bottom of the experiment:"
   ]
  },
  {
   "cell_type": "code",
   "execution_count": 15,
   "metadata": {},
   "outputs": [
    {
     "name": "stdout",
     "output_type": "stream",
     "text": [
      "vertices: 2, edges: 1\n",
      "igraph.Vertex(<igraph.Graph object at 0x110c7b8b0>, 0, {'name': 'Eps1.1 ones-and-zer0es.mpeg', 'pageid': 2338, 'revision_count': 98, 'namespace': ':', 'categories': 'Category:Broadcast episodes;Category:Season 1;Category:Season 1 episodes;Category:Episodes', 'contributors': 'Devinthe66;Theropod from the North;LeverageGuru;Lilgroot;Muhdika;Homersprairies;Azerty8;Tsimaile;BerzekerLT;ToxicNutellaStudios;Sharkdavid77;Aaron Warner-Perfection;92.24.143.225;2.101.0.99;105.225.82.18;PLLLOVER1234;X-IT', 'Label': 'Eps1.1 ones-and-zer0es.mpeg', 'id': 0})\n",
      "igraph.Vertex(<igraph.Graph object at 0x110c7b8b0>, 1, {'name': 'Elliot Alderson', 'pageid': 2167, 'revision_count': 212, 'namespace': ':', 'categories': 'Category:Allsafe Cybersecurity;Category:Hackers;Category:Season 1 characters;Category:Season 2 characters;Category:Season 3 characters;Category:Season 4 characters;Category:Characters;Category:Fsociety;Category:Major characters', 'contributors': 'Lilgroot;Lacunite;Scoothare;AnEvildoer;Skybluehaneul;Tanya AZian;LeverageGuru;Heliocopters;TheOriginalRiza32;Hecknawboi;Nad Sterk;Ithnam;Femtocell;Jakubgawka;Mayhem12367;Saturnkind;Protranslator;Empulsgfx;MonsterousMan;PhanAwesomeness;Original Authority;PhonixUK;Minirugman;Jon Ambrose 81;Monochromatic Bunny;GodVicious;HotheadedBirdy;F7 ACiD;Thootly;SomeCrazyObsessedFan;Tracadilla;HardLogic;ToxicSleeper;EmilyReedus-Dixon;Drvroom;Mrsrobot24;ToxicNutellaStudios;Shan282;Thegamingweirdo;199.119.233.205;72.191.69.125;99.248.157.182;199.7.157.101;Miokeyll;209.221.90.250;199.7.157.94;99.248.38.61;67.187.178.154;172.88.44.40;216.126.81.155;121.97.32.218;Pcnoic;104.177.94.189;66.85.139.244;197.35.7.173;Elliot Alderson;174.113.80.211;105.228.127.119;P-t-x;37.203.122.219;198.23.143.218;Mda228;217.208.115.32;73.132.17.165;108.9.159.237;JRob528;166.137.244.18;100.38.199.197;41.254.6.41;PLLLOVER1234;Zoeyadams;Spirit freak;146.115.155.4;Effectofthemassvariety;Vlop12;Sovq;X-IT;67.42.52.214', 'Label': 'Elliot Alderson', 'id': 1})\n"
     ]
    }
   ],
   "source": [
    "print(f'vertices: {len(g.vs)}, edges: {len(g.es)}')\n",
    "\n",
    "print(g.vs[0])\n",
    "print(g.vs[1])\n",
    "\n",
    "# print(g)"
   ]
  }
 ],
 "metadata": {
  "interpreter": {
   "hash": "c6d489c1e4080629909eeb6ba2b0aed1bc390e7764725762fabac6ff2c7afd09"
  },
  "kernelspec": {
   "display_name": "Python 3.9.7 64-bit ('venv': venv)",
   "name": "python3"
  },
  "language_info": {
   "codemirror_mode": {
    "name": "ipython",
    "version": 3
   },
   "file_extension": ".py",
   "mimetype": "text/x-python",
   "name": "python",
   "nbconvert_exporter": "python",
   "pygments_lexer": "ipython3",
   "version": "3.9.7"
  },
  "orig_nbformat": 4
 },
 "nbformat": 4,
 "nbformat_minor": 2
}
