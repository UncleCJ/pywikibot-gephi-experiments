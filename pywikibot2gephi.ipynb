{
 "cells": [
  {
   "cell_type": "code",
   "execution_count": 1,
   "metadata": {},
   "outputs": [],
   "source": [
    "import pywikibot\n",
    "import igraph as ig\n",
    "import igraph.remote.gephi as igg"
   ]
  },
  {
   "cell_type": "code",
   "execution_count": 2,
   "metadata": {},
   "outputs": [],
   "source": [
    "# Instantiate pywikibot mediawiki as defined in user-config.py\n",
    "# (potentially leveraging PYWIKIBOT_ROOT/families [look this up])\n",
    "site = pywikibot.Site()"
   ]
  },
  {
   "cell_type": "code",
   "execution_count": 3,
   "metadata": {},
   "outputs": [],
   "source": [
    "page1 = pywikibot.Page(site, 'Eps1.1 ones-and-zer0es.mpeg')\n",
    "page2 = pywikibot.Page(site, 'Elliot Alderson')"
   ]
  },
  {
   "cell_type": "code",
   "execution_count": 4,
   "metadata": {},
   "outputs": [],
   "source": [
    "page1_attributes = {\n",
    "    'name': page1.title(), \n",
    "    # Note how several attributes/properties are methods, while this is an int\n",
    "    #  - you can specify to pywikibot.Page whether you want to fetch the content\n",
    "    'pageid': page1.pageid,\n",
    "    'revision_count': page1.revision_count(),\n",
    "    # pywikibot frequently returns objects which may not be serializable\n",
    "    'namespace': str(page1.namespace()),\n",
    "    # again, here we convert Category objects into a string\n",
    "    'categories': ';'.join([category.title() for category in page1.categories()]),\n",
    "    # Contributors are a dict of usernames and number of revisions\n",
    "    'contributors': ';'.join(page1.contributors().keys()),\n",
    "    }\n",
    "\n",
    "# We will have a function to perform this shortly\n",
    "page2_attributes = {\n",
    "    'name': page2.title(), \n",
    "    'pageid': page2.pageid,\n",
    "    'revision_count': page2.revision_count(),\n",
    "    'namespace': str(page2.namespace()),\n",
    "    'categories': ';'.join([category.title() for category in page2.categories()]),\n",
    "    'contributors': ';'.join(page2.contributors().keys()),\n",
    "    }"
   ]
  },
  {
   "cell_type": "code",
   "execution_count": 5,
   "metadata": {},
   "outputs": [],
   "source": [
    "g = ig.Graph()\n",
    "\n",
    "# Seems igraph doesn't provide much convenience,\n",
    "# better keep track of vertex IDs (edges will be fine)\n",
    "vertex_ids = ig.UniqueIdGenerator()"
   ]
  },
  {
   "cell_type": "code",
   "execution_count": 6,
   "metadata": {},
   "outputs": [],
   "source": [
    "for attributes in page1_attributes, page2_attributes:\n",
    "    # Gephi expect vertex/node names in the `Label` field\n",
    "    attributes['Label'] = attributes['name']\n",
    "    # igraph.UniqueIdGenerator will retrieve an ID if key exists, or register the next one\n",
    "    attributes['id'] = vertex_ids[attributes['name']]\n",
    "    # ... so make sure to add the vertice/vertex if you generate IDs:\n",
    "    g.add_vertices(1, attributes)"
   ]
  },
  {
   "cell_type": "code",
   "execution_count": 7,
   "metadata": {},
   "outputs": [
    {
     "name": "stdout",
     "output_type": "stream",
     "text": [
      "igraph.Vertex(<igraph.Graph object at 0x7fd3889428b0>, 0, {'name': 'Eps1.1 ones-and-zer0es.mpeg', 'pageid': 2338, 'revision_count': 98, 'namespace': ':', 'categories': 'Category:Broadcast episodes;Category:Season 1;Category:Season 1 episodes;Category:Episodes', 'contributors': 'Devinthe66;Theropod from the North;LeverageGuru;Lilgroot;Muhdika;Homersprairies;Azerty8;Tsimaile;BerzekerLT;ToxicNutellaStudios;Sharkdavid77;Aaron Warner-Perfection;92.24.143.225;2.101.0.99;105.225.82.18;PLLLOVER1234;X-IT', 'Label': 'Eps1.1 ones-and-zer0es.mpeg', 'id': 0})\n",
      "igraph.Vertex(<igraph.Graph object at 0x7fd3889428b0>, 1, {'name': 'Elliot Alderson', 'pageid': 2167, 'revision_count': 212, 'namespace': ':', 'categories': 'Category:Allsafe Cybersecurity;Category:Hackers;Category:Season 1 characters;Category:Season 2 characters;Category:Season 3 characters;Category:Season 4 characters;Category:Characters;Category:Fsociety;Category:Major characters', 'contributors': 'Lilgroot;Lacunite;Scoothare;AnEvildoer;Skybluehaneul;Tanya AZian;LeverageGuru;Heliocopters;TheOriginalRiza32;Hecknawboi;Nad Sterk;Ithnam;Femtocell;Jakubgawka;Mayhem12367;Saturnkind;Protranslator;Empulsgfx;MonsterousMan;PhanAwesomeness;Original Authority;PhonixUK;Minirugman;Jon Ambrose 81;Monochromatic Bunny;GodVicious;HotheadedBirdy;F7 ACiD;Thootly;SomeCrazyObsessedFan;Tracadilla;HardLogic;ToxicSleeper;EmilyReedus-Dixon;Drvroom;Mrsrobot24;ToxicNutellaStudios;Shan282;Thegamingweirdo;199.119.233.205;72.191.69.125;99.248.157.182;199.7.157.101;Miokeyll;209.221.90.250;199.7.157.94;99.248.38.61;67.187.178.154;172.88.44.40;216.126.81.155;121.97.32.218;Pcnoic;104.177.94.189;66.85.139.244;197.35.7.173;Elliot Alderson;174.113.80.211;105.228.127.119;P-t-x;37.203.122.219;198.23.143.218;Mda228;217.208.115.32;73.132.17.165;108.9.159.237;JRob528;166.137.244.18;100.38.199.197;41.254.6.41;PLLLOVER1234;Zoeyadams;Spirit freak;146.115.155.4;Effectofthemassvariety;Vlop12;Sovq;X-IT;67.42.52.214', 'Label': 'Elliot Alderson', 'id': 1})\n"
     ]
    }
   ],
   "source": [
    "for v in g.vs:\n",
    "    print(v)"
   ]
  },
  {
   "cell_type": "code",
   "execution_count": 8,
   "metadata": {},
   "outputs": [
    {
     "name": "stdout",
     "output_type": "stream",
     "text": [
      "Page \"Eps1.1 ones-and-zer0es.mpeg\" got the vertex ID we expected\n",
      "Page \"Elliot Alderson\" got the vertex ID we expected\n"
     ]
    },
    {
     "data": {
      "text/plain": [
       "igraph.Edge(<igraph.Graph object at 0x7fd3889428b0>, 0, {})"
      ]
     },
     "execution_count": 8,
     "metadata": {},
     "output_type": "execute_result"
    }
   ],
   "source": [
    "for attributes in [page1_attributes, page2_attributes]:\n",
    "    assert attributes['name'] == g.vs[attributes['id']]['name']\n",
    "    print(f'Page \"{attributes[\"name\"]}\" got the vertex ID we expected')\n",
    "\n",
    "g.add_edge(page1_attributes['id'], page2_attributes['id'])"
   ]
  },
  {
   "cell_type": "code",
   "execution_count": 9,
   "metadata": {},
   "outputs": [],
   "source": [
    "gephi = igg.GephiConnection()\n",
    "streamer = igg.GephiGraphStreamer()\n",
    "streamer.post(g, gephi)"
   ]
  },
  {
   "cell_type": "code",
   "execution_count": 10,
   "metadata": {},
   "outputs": [],
   "source": [
    "# import pickle\n",
    "\n",
    "# with open('mrrobotgraph.pickle', 'wb') as handle:\n",
    "#     pickle.dump(g, handle, protocol=pickle.HIGHEST_PROTOCOL)\n",
    "\n",
    "# with open('mrrobot_idgen.pickle', 'wb') as handle:\n",
    "#     pickle.dump(id_gen, handle, protocol=pickle.HIGHEST_PROTOCOL)"
   ]
  },
  {
   "cell_type": "code",
   "execution_count": 11,
   "metadata": {},
   "outputs": [],
   "source": [
    "# with open('mrrobotgraph.pickle', 'rb') as handle:\n",
    "#     g = pickle.load(handle)\n",
    "\n",
    "# with open('mrrobot_idgen.pickle', 'rb') as handle:\n",
    "#     id_gen = pickle.load(handle)"
   ]
  },
  {
   "cell_type": "code",
   "execution_count": 12,
   "metadata": {},
   "outputs": [
    {
     "name": "stdout",
     "output_type": "stream",
     "text": [
      "vertices: 2, edges: 1\n",
      "igraph.Vertex(<igraph.Graph object at 0x7fd3889428b0>, 0, {'name': 'Eps1.1 ones-and-zer0es.mpeg', 'pageid': 2338, 'revision_count': 98, 'namespace': ':', 'categories': 'Category:Broadcast episodes;Category:Season 1;Category:Season 1 episodes;Category:Episodes', 'contributors': 'Devinthe66;Theropod from the North;LeverageGuru;Lilgroot;Muhdika;Homersprairies;Azerty8;Tsimaile;BerzekerLT;ToxicNutellaStudios;Sharkdavid77;Aaron Warner-Perfection;92.24.143.225;2.101.0.99;105.225.82.18;PLLLOVER1234;X-IT', 'Label': 'Eps1.1 ones-and-zer0es.mpeg', 'id': 0})\n",
      "igraph.Vertex(<igraph.Graph object at 0x7fd3889428b0>, 1, {'name': 'Elliot Alderson', 'pageid': 2167, 'revision_count': 212, 'namespace': ':', 'categories': 'Category:Allsafe Cybersecurity;Category:Hackers;Category:Season 1 characters;Category:Season 2 characters;Category:Season 3 characters;Category:Season 4 characters;Category:Characters;Category:Fsociety;Category:Major characters', 'contributors': 'Lilgroot;Lacunite;Scoothare;AnEvildoer;Skybluehaneul;Tanya AZian;LeverageGuru;Heliocopters;TheOriginalRiza32;Hecknawboi;Nad Sterk;Ithnam;Femtocell;Jakubgawka;Mayhem12367;Saturnkind;Protranslator;Empulsgfx;MonsterousMan;PhanAwesomeness;Original Authority;PhonixUK;Minirugman;Jon Ambrose 81;Monochromatic Bunny;GodVicious;HotheadedBirdy;F7 ACiD;Thootly;SomeCrazyObsessedFan;Tracadilla;HardLogic;ToxicSleeper;EmilyReedus-Dixon;Drvroom;Mrsrobot24;ToxicNutellaStudios;Shan282;Thegamingweirdo;199.119.233.205;72.191.69.125;99.248.157.182;199.7.157.101;Miokeyll;209.221.90.250;199.7.157.94;99.248.38.61;67.187.178.154;172.88.44.40;216.126.81.155;121.97.32.218;Pcnoic;104.177.94.189;66.85.139.244;197.35.7.173;Elliot Alderson;174.113.80.211;105.228.127.119;P-t-x;37.203.122.219;198.23.143.218;Mda228;217.208.115.32;73.132.17.165;108.9.159.237;JRob528;166.137.244.18;100.38.199.197;41.254.6.41;PLLLOVER1234;Zoeyadams;Spirit freak;146.115.155.4;Effectofthemassvariety;Vlop12;Sovq;X-IT;67.42.52.214', 'Label': 'Elliot Alderson', 'id': 1})\n"
     ]
    }
   ],
   "source": [
    "print(f'vertices: {len(g.vs)}, edges: {len(g.es)}')\n",
    "\n",
    "print(g.vs[0])\n",
    "print(g.vs[1])\n",
    "\n",
    "# print(g)"
   ]
  }
 ],
 "metadata": {
  "interpreter": {
   "hash": "ca918ad339edcacb48889f88a3559b6f8079d9b3c89334dc39fffcc952cb73bf"
  },
  "kernelspec": {
   "display_name": "Python 3.8.10 64-bit ('venv': venv)",
   "name": "python3"
  },
  "language_info": {
   "codemirror_mode": {
    "name": "ipython",
    "version": 3
   },
   "file_extension": ".py",
   "mimetype": "text/x-python",
   "name": "python",
   "nbconvert_exporter": "python",
   "pygments_lexer": "ipython3",
   "version": "3.8.10"
  },
  "orig_nbformat": 4
 },
 "nbformat": 4,
 "nbformat_minor": 2
}
