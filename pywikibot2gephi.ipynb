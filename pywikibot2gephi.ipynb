{
 "cells": [
  {
   "cell_type": "code",
   "execution_count": 1,
   "metadata": {},
   "outputs": [
    {
     "data": {
      "text/markdown": [
       "# Pywikibot to Gephi\n",
       "\n",
       "\n",
       "[![nbviewer](https://raw.githubusercontent.com/jupyter/design/master/logos/Badges/nbviewer_badge.svg)](https://nbviewer.jupyter.org/github/UncleCJ/pywikibot-gephi-experiments/blob/dev2/pywikibot2gephi.ipynb) [![Binder](https://mybinder.org/badge_logo.svg)](https://mybinder.org/v2/gh/UncleCJ/pywikibot-gephi-experiments/dev2?filepath=pywikibot2gephi.ipynb)\n",
       "\n",
       "\n",
       "See also:\n",
       "\n",
       "* https://www.mediawiki.org/wiki/Manual:Pywikibot/PAWS\n",
       "* https://www.mediawiki.org/wiki/Manual:Pywikibot\n",
       "* https://www.wikidata.org/wiki/Wikidata:Pywikibot_-_Python_3_Tutorial\n",
       "* https://wikitech.wikimedia.org/wiki/PAWS/PAWS_examples_and_recipes\n",
       "* https://towardsdatascience.com/newbies-guide-to-python-igraph-4e51689c35b4\n",
       "* https://igraph.org/python/api/master/igraph.html\n",
       "* https://doc.wikimedia.org/pywikibot/master/index.html\n",
       "* https://public.paws.wmcloud.org/309423/ds4ux/jupyter-intro.ipynb\n",
       "* https://public.paws.wmcloud.org/19781798/WikidataMapMakingWorkshop/WikidataMapMakingWorkshop.ipynb\n",
       "* https://pythonrepo.com/repo/markusschanta-awesome-jupyter-python-repl\n",
       "* [Previous tutorial: How to use Gephi to visualize from Wikidata](https://gist.github.com/UncleCJ/2408aef8eab09cc1da3404c5af43537b)\n",
       "* [My advent-of-code solutions, also in Jupyter notebooks](https://github.com/UncleCJ/advent-of-code)\n",
       "* https://www.janmeppe.com/blog/how-to-add-new-kernel-in-jupyter-notebook/\n",
       "* https://ipython.readthedocs.io/en/stable/api/generated/IPython.display.html\n",
       "* https://pyup.io/changelogs/pywikibot/\n",
       "* https://heardlibrary.github.io/digital-scholarship/host/wikidata/bot/\n",
       "* https://heardlibrary.github.io/digital-scholarship/host/wikidata/pywikibot/\n",
       "* https://cambridge-intelligence.com/python-graph-visualization-using-jupyter-regraph/\n",
       "* http://compbio.ucsd.edu/bringing-interactivity-network-visualization-jupyter-notebooks-visjs2jupyter/\n",
       "* https://ipython-books.github.io/64-visualizing-a-networkx-graph-in-the-notebook-with-d3js/\n",
       "* https://melaniewalsh.github.io/Intro-Cultural-Analytics/06-Network-Analysis/02-Making-Network-Viz-with-Bokeh.html\n",
       "* https://github.com/adamhajari/nbgitconvert"
      ],
      "text/plain": [
       "<IPython.core.display.Markdown object>"
      ]
     },
     "execution_count": 1,
     "metadata": {},
     "output_type": "execute_result"
    }
   ],
   "source": [
    "from IPython import display\n",
    "\n",
    "display.Markdown('README.md')"
   ]
  },
  {
   "cell_type": "code",
   "execution_count": 2,
   "metadata": {},
   "outputs": [],
   "source": [
    "import pywikibot\n",
    "import igraph as ig\n",
    "import igraph.remote.gephi as igg"
   ]
  },
  {
   "cell_type": "code",
   "execution_count": 3,
   "metadata": {},
   "outputs": [
    {
     "data": {
      "text/html": [
       "<style>pre { line-height: 125%; }\n",
       "td.linenos .normal { color: inherit; background-color: transparent; padding-left: 5px; padding-right: 5px; }\n",
       "span.linenos { color: inherit; background-color: transparent; padding-left: 5px; padding-right: 5px; }\n",
       "td.linenos .special { color: #000000; background-color: #ffffc0; padding-left: 5px; padding-right: 5px; }\n",
       "span.linenos.special { color: #000000; background-color: #ffffc0; padding-left: 5px; padding-right: 5px; }\n",
       ".output_html .hll { background-color: #ffffcc }\n",
       ".output_html { background: #f8f8f8; }\n",
       ".output_html .c { color: #408080; font-style: italic } /* Comment */\n",
       ".output_html .err { border: 1px solid #FF0000 } /* Error */\n",
       ".output_html .k { color: #008000; font-weight: bold } /* Keyword */\n",
       ".output_html .o { color: #666666 } /* Operator */\n",
       ".output_html .ch { color: #408080; font-style: italic } /* Comment.Hashbang */\n",
       ".output_html .cm { color: #408080; font-style: italic } /* Comment.Multiline */\n",
       ".output_html .cp { color: #BC7A00 } /* Comment.Preproc */\n",
       ".output_html .cpf { color: #408080; font-style: italic } /* Comment.PreprocFile */\n",
       ".output_html .c1 { color: #408080; font-style: italic } /* Comment.Single */\n",
       ".output_html .cs { color: #408080; font-style: italic } /* Comment.Special */\n",
       ".output_html .gd { color: #A00000 } /* Generic.Deleted */\n",
       ".output_html .ge { font-style: italic } /* Generic.Emph */\n",
       ".output_html .gr { color: #FF0000 } /* Generic.Error */\n",
       ".output_html .gh { color: #000080; font-weight: bold } /* Generic.Heading */\n",
       ".output_html .gi { color: #00A000 } /* Generic.Inserted */\n",
       ".output_html .go { color: #888888 } /* Generic.Output */\n",
       ".output_html .gp { color: #000080; font-weight: bold } /* Generic.Prompt */\n",
       ".output_html .gs { font-weight: bold } /* Generic.Strong */\n",
       ".output_html .gu { color: #800080; font-weight: bold } /* Generic.Subheading */\n",
       ".output_html .gt { color: #0044DD } /* Generic.Traceback */\n",
       ".output_html .kc { color: #008000; font-weight: bold } /* Keyword.Constant */\n",
       ".output_html .kd { color: #008000; font-weight: bold } /* Keyword.Declaration */\n",
       ".output_html .kn { color: #008000; font-weight: bold } /* Keyword.Namespace */\n",
       ".output_html .kp { color: #008000 } /* Keyword.Pseudo */\n",
       ".output_html .kr { color: #008000; font-weight: bold } /* Keyword.Reserved */\n",
       ".output_html .kt { color: #B00040 } /* Keyword.Type */\n",
       ".output_html .m { color: #666666 } /* Literal.Number */\n",
       ".output_html .s { color: #BA2121 } /* Literal.String */\n",
       ".output_html .na { color: #7D9029 } /* Name.Attribute */\n",
       ".output_html .nb { color: #008000 } /* Name.Builtin */\n",
       ".output_html .nc { color: #0000FF; font-weight: bold } /* Name.Class */\n",
       ".output_html .no { color: #880000 } /* Name.Constant */\n",
       ".output_html .nd { color: #AA22FF } /* Name.Decorator */\n",
       ".output_html .ni { color: #999999; font-weight: bold } /* Name.Entity */\n",
       ".output_html .ne { color: #D2413A; font-weight: bold } /* Name.Exception */\n",
       ".output_html .nf { color: #0000FF } /* Name.Function */\n",
       ".output_html .nl { color: #A0A000 } /* Name.Label */\n",
       ".output_html .nn { color: #0000FF; font-weight: bold } /* Name.Namespace */\n",
       ".output_html .nt { color: #008000; font-weight: bold } /* Name.Tag */\n",
       ".output_html .nv { color: #19177C } /* Name.Variable */\n",
       ".output_html .ow { color: #AA22FF; font-weight: bold } /* Operator.Word */\n",
       ".output_html .w { color: #bbbbbb } /* Text.Whitespace */\n",
       ".output_html .mb { color: #666666 } /* Literal.Number.Bin */\n",
       ".output_html .mf { color: #666666 } /* Literal.Number.Float */\n",
       ".output_html .mh { color: #666666 } /* Literal.Number.Hex */\n",
       ".output_html .mi { color: #666666 } /* Literal.Number.Integer */\n",
       ".output_html .mo { color: #666666 } /* Literal.Number.Oct */\n",
       ".output_html .sa { color: #BA2121 } /* Literal.String.Affix */\n",
       ".output_html .sb { color: #BA2121 } /* Literal.String.Backtick */\n",
       ".output_html .sc { color: #BA2121 } /* Literal.String.Char */\n",
       ".output_html .dl { color: #BA2121 } /* Literal.String.Delimiter */\n",
       ".output_html .sd { color: #BA2121; font-style: italic } /* Literal.String.Doc */\n",
       ".output_html .s2 { color: #BA2121 } /* Literal.String.Double */\n",
       ".output_html .se { color: #BB6622; font-weight: bold } /* Literal.String.Escape */\n",
       ".output_html .sh { color: #BA2121 } /* Literal.String.Heredoc */\n",
       ".output_html .si { color: #BB6688; font-weight: bold } /* Literal.String.Interpol */\n",
       ".output_html .sx { color: #008000 } /* Literal.String.Other */\n",
       ".output_html .sr { color: #BB6688 } /* Literal.String.Regex */\n",
       ".output_html .s1 { color: #BA2121 } /* Literal.String.Single */\n",
       ".output_html .ss { color: #19177C } /* Literal.String.Symbol */\n",
       ".output_html .bp { color: #008000 } /* Name.Builtin.Pseudo */\n",
       ".output_html .fm { color: #0000FF } /* Name.Function.Magic */\n",
       ".output_html .vc { color: #19177C } /* Name.Variable.Class */\n",
       ".output_html .vg { color: #19177C } /* Name.Variable.Global */\n",
       ".output_html .vi { color: #19177C } /* Name.Variable.Instance */\n",
       ".output_html .vm { color: #19177C } /* Name.Variable.Magic */\n",
       ".output_html .il { color: #666666 } /* Literal.Number.Integer.Long */</style><div class=\"highlight\"><pre><span></span><span class=\"n\">mylang</span> <span class=\"o\">=</span> <span class=\"s1\">&#39;mrrobot&#39;</span>\n",
       "<span class=\"n\">family</span> <span class=\"o\">=</span> <span class=\"s1\">&#39;mrrobot&#39;</span>\n",
       "<span class=\"n\">usernames</span><span class=\"p\">[</span><span class=\"s1\">&#39;mrrobot&#39;</span><span class=\"p\">][</span><span class=\"s1\">&#39;en&#39;</span><span class=\"p\">]</span> <span class=\"o\">=</span> <span class=\"s1\">&#39;ExampleBot&#39;</span>\n",
       "<span class=\"n\">family_files</span><span class=\"p\">[</span><span class=\"s1\">&#39;mrrobot&#39;</span><span class=\"p\">]</span> <span class=\"o\">=</span> <span class=\"s1\">&#39;https://mrrobot.fandom.com/api.php&#39;</span>\n",
       "</pre></div>\n"
      ],
      "text/latex": [
       "\\begin{Verbatim}[commandchars=\\\\\\{\\}]\n",
       "\\PY{n}{mylang} \\PY{o}{=} \\PY{l+s+s1}{\\PYZsq{}}\\PY{l+s+s1}{mrrobot}\\PY{l+s+s1}{\\PYZsq{}}\n",
       "\\PY{n}{family} \\PY{o}{=} \\PY{l+s+s1}{\\PYZsq{}}\\PY{l+s+s1}{mrrobot}\\PY{l+s+s1}{\\PYZsq{}}\n",
       "\\PY{n}{usernames}\\PY{p}{[}\\PY{l+s+s1}{\\PYZsq{}}\\PY{l+s+s1}{mrrobot}\\PY{l+s+s1}{\\PYZsq{}}\\PY{p}{]}\\PY{p}{[}\\PY{l+s+s1}{\\PYZsq{}}\\PY{l+s+s1}{en}\\PY{l+s+s1}{\\PYZsq{}}\\PY{p}{]} \\PY{o}{=} \\PY{l+s+s1}{\\PYZsq{}}\\PY{l+s+s1}{ExampleBot}\\PY{l+s+s1}{\\PYZsq{}}\n",
       "\\PY{n}{family\\PYZus{}files}\\PY{p}{[}\\PY{l+s+s1}{\\PYZsq{}}\\PY{l+s+s1}{mrrobot}\\PY{l+s+s1}{\\PYZsq{}}\\PY{p}{]} \\PY{o}{=} \\PY{l+s+s1}{\\PYZsq{}}\\PY{l+s+s1}{https://mrrobot.fandom.com/api.php}\\PY{l+s+s1}{\\PYZsq{}}\n",
       "\\end{Verbatim}\n"
      ],
      "text/plain": [
       "mylang = 'mrrobot'\n",
       "family = 'mrrobot'\n",
       "usernames['mrrobot']['en'] = 'ExampleBot'\n",
       "family_files['mrrobot'] = 'https://mrrobot.fandom.com/api.php'"
      ]
     },
     "execution_count": 3,
     "metadata": {},
     "output_type": "execute_result"
    }
   ],
   "source": [
    "display.Code('user-config.py')"
   ]
  },
  {
   "cell_type": "code",
   "execution_count": 4,
   "metadata": {},
   "outputs": [],
   "source": [
    "# Instantiate pywikibot mediawiki as defined in user-config.py\n",
    "# (potentially leveraging PYWIKIBOT_ROOT/families [look this up])\n",
    "site = pywikibot.Site()"
   ]
  },
  {
   "cell_type": "code",
   "execution_count": 5,
   "metadata": {},
   "outputs": [],
   "source": [
    "page1 = pywikibot.Page(site, 'Eps1.1 ones-and-zer0es.mpeg')\n",
    "page2 = pywikibot.Page(site, 'Elliot Alderson')"
   ]
  },
  {
   "cell_type": "code",
   "execution_count": 6,
   "metadata": {},
   "outputs": [],
   "source": [
    "page1_attributes = {\n",
    "    'name': page1.title(), \n",
    "    # Note how several attributes/properties are methods, while this is an int\n",
    "    #  - you can specify to pywikibot.Page whether you want to fetch the content\n",
    "    'pageid': page1.pageid,\n",
    "    'revision_count': page1.revision_count(),\n",
    "    # pywikibot frequently returns objects which may not be serializable\n",
    "    'namespace': str(page1.namespace()),\n",
    "    # again, here we convert Category objects into a string\n",
    "    'categories': ';'.join([category.title() for category in page1.categories()]),\n",
    "    # Contributors are a dict of usernames and number of revisions\n",
    "    'contributors': ';'.join(page1.contributors().keys()),\n",
    "    }\n",
    "\n",
    "# We will have a function to perform this shortly\n",
    "page2_attributes = {\n",
    "    'name': page2.title(), \n",
    "    'pageid': page2.pageid,\n",
    "    'revision_count': page2.revision_count(),\n",
    "    'namespace': str(page2.namespace()),\n",
    "    'categories': ';'.join([category.title() for category in page2.categories()]),\n",
    "    'contributors': ';'.join(page2.contributors().keys()),\n",
    "    }"
   ]
  },
  {
   "cell_type": "code",
   "execution_count": null,
   "metadata": {},
   "outputs": [],
   "source": [
    "g = ig.Graph()\n",
    "\n",
    "# Seems igraph doesn't provide much convenience,\n",
    "# better keep track of vertex IDs (edges will be fine)\n",
    "vertex_ids = ig.UniqueIdGenerator()"
   ]
  },
  {
   "cell_type": "code",
   "execution_count": null,
   "metadata": {},
   "outputs": [],
   "source": [
    "for attributes in page1_attributes, page2_attributes:\n",
    "    # Gephi expect vertex/node names in the `Label` field\n",
    "    attributes['Label'] = attributes['name']\n",
    "    # igraph.UniqueIdGenerator will retrieve an ID if key exists, or register the next one\n",
    "    attributes['id'] = vertex_ids[attributes['name']]\n",
    "    # ... so make sure to add the vertice/vertex if you generate IDs:\n",
    "    g.add_vertices(1, attributes)"
   ]
  },
  {
   "cell_type": "code",
   "execution_count": null,
   "metadata": {},
   "outputs": [],
   "source": [
    "for v in g.vs:\n",
    "    print(v)"
   ]
  },
  {
   "cell_type": "code",
   "execution_count": null,
   "metadata": {},
   "outputs": [],
   "source": [
    "for attributes in [page1_attributes, page2_attributes]:\n",
    "    assert attributes['name'] == g.vs[attributes['id']]['name']\n",
    "    print(f'Page \"{attributes[\"name\"]}\" got the vertex ID we expected')\n",
    "\n",
    "g.add_edge(page1_attributes['id'], page2_attributes['id'])"
   ]
  },
  {
   "cell_type": "code",
   "execution_count": null,
   "metadata": {},
   "outputs": [],
   "source": [
    "gephi = igg.GephiConnection()\n",
    "streamer = igg.GephiGraphStreamer()\n",
    "streamer.post(g, gephi)"
   ]
  },
  {
   "cell_type": "code",
   "execution_count": null,
   "metadata": {},
   "outputs": [],
   "source": [
    "# import pickle\n",
    "\n",
    "# with open('mrrobotgraph.pickle', 'wb') as handle:\n",
    "#     pickle.dump(g, handle, protocol=pickle.HIGHEST_PROTOCOL)\n",
    "\n",
    "# with open('mrrobot_idgen.pickle', 'wb') as handle:\n",
    "#     pickle.dump(id_gen, handle, protocol=pickle.HIGHEST_PROTOCOL)"
   ]
  },
  {
   "cell_type": "code",
   "execution_count": null,
   "metadata": {},
   "outputs": [],
   "source": [
    "# with open('mrrobotgraph.pickle', 'rb') as handle:\n",
    "#     g = pickle.load(handle)\n",
    "\n",
    "# with open('mrrobot_idgen.pickle', 'rb') as handle:\n",
    "#     id_gen = pickle.load(handle)"
   ]
  },
  {
   "cell_type": "code",
   "execution_count": null,
   "metadata": {},
   "outputs": [],
   "source": [
    "print(f'vertices: {len(g.vs)}, edges: {len(g.es)}')\n",
    "\n",
    "print(g.vs[0])\n",
    "print(g.vs[1])\n",
    "\n",
    "# print(g)"
   ]
  }
 ],
 "metadata": {
  "interpreter": {
   "hash": "d088ba2943a666bd3bd771e98fb5a5e47e89d8247243cd509ecc26c7c8d9aa74"
  },
  "kernelspec": {
   "display_name": "Python 3.9.7 64-bit ('venv': venv)",
   "name": "python3"
  },
  "language_info": {
   "codemirror_mode": {
    "name": "ipython",
    "version": 3
   },
   "file_extension": ".py",
   "mimetype": "text/x-python",
   "name": "python",
   "nbconvert_exporter": "python",
   "pygments_lexer": "ipython3",
   "version": "3.9.7"
  },
  "orig_nbformat": 4
 },
 "nbformat": 4,
 "nbformat_minor": 2
}
